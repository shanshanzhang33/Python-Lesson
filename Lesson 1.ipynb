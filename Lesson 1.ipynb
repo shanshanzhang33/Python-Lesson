{
 "cells": [
  {
   "cell_type": "markdown",
   "id": "bdaec3e0-678b-4473-b05a-7ca80e443760",
   "metadata": {},
   "source": [
    "My first Python lesson "
   ]
  },
  {
   "cell_type": "markdown",
   "id": "c1a8be03-de80-48ee-8301-0fe108d81ac2",
   "metadata": {},
   "source": [
    "Here is my first lession of Python. I would like to share what I have learned so far. Hope it will be of any help in your journey of learning Python. "
   ]
  },
  {
   "cell_type": "raw",
   "id": "a29ace2e-fa20-44d7-b768-0f38cb02fcef",
   "metadata": {},
   "source": [
    "Types of Objects: \n",
    "    int: integers, e.g.,11; including negative and zero;\n",
    "    float: real number, e.g.,11.1\n",
    "    str: string,e.g.,\"Hello Matt!\"; can use \" \" or '', but can't mix like \" ';\n",
    "    bool: boolean, True/False."
   ]
  },
  {
   "cell_type": "markdown",
   "id": "2b923081-b725-4e6a-bf0e-77bcd5816c87",
   "metadata": {},
   "source": [
    "Some simple codes to start with"
   ]
  },
  {
   "cell_type": "code",
   "execution_count": null,
   "id": "06c2c798-0094-464b-8d9c-4a7ea998aec2",
   "metadata": {},
   "outputs": [],
   "source": [
    "type() # check what type is it, e.g.,\n",
    "type(1) # return int\n",
    "type(1.1) # return float"
   ]
  },
  {
   "cell_type": "code",
   "execution_count": null,
   "id": "14d1e841-e377-413c-8986-6a5698b86cd7",
   "metadata": {},
   "outputs": [],
   "source": [
    "float() # convert int to float\n",
    "float(1) # return 1.0"
   ]
  },
  {
   "cell_type": "code",
   "execution_count": null,
   "id": "79906e71-0b14-46f3-ac22-64986fde8eba",
   "metadata": {},
   "outputs": [],
   "source": [
    "int() # convert float to int\n",
    "int(1.9) # return 1"
   ]
  },
  {
   "cell_type": "code",
   "execution_count": null,
   "id": "4a3a24f0-30b8-4792-a859-d9c796d6fddd",
   "metadata": {},
   "outputs": [],
   "source": [
    "print() # print out something"
   ]
  },
  {
   "cell_type": "code",
   "execution_count": 1,
   "id": "facd57f2-2ece-439a-a043-273f9c5df893",
   "metadata": {},
   "outputs": [
    {
     "data": {
      "text/plain": [
       "1"
      ]
     },
     "execution_count": 1,
     "metadata": {},
     "output_type": "execute_result"
    }
   ],
   "source": [
    "int(True) # return 1\n",
    "int(False) # return 0\n",
    "float(True) # return 1.0\n",
    "float(False) # return 0.0\n",
    "bool(1) # return True\n",
    "bool(0) # return False"
   ]
  },
  {
   "cell_type": "markdown",
   "id": "5ef40416-26e9-40e4-bae8-d7147cf80522",
   "metadata": {},
   "source": [
    "Expressions: mathmatic operations"
   ]
  },
  {
   "cell_type": "raw",
   "id": "de787519-1921-4f2b-8198-4a0b798725d7",
   "metadata": {},
   "source": [
    "Operators: \n",
    " + : plus, e.g., 3+4, return 7\n",
    " - : minus\n",
    " * : multiplication\n",
    " / : division\n",
    " //: integer division"
   ]
  },
  {
   "cell_type": "raw",
   "id": "dd99eb2f-6882-4af2-bb6a-aa82ce7501d0",
   "metadata": {},
   "source": [
    "Variables: \n",
    " x = 25//6 # x = 4\n",
    " x = x/2 # x = 2"
   ]
  },
  {
   "cell_type": "markdown",
   "id": "b75b3be0-103d-4991-adc4-82a10a57716c",
   "metadata": {},
   "source": [
    "Quiz: What is the result of the following : str(1+1) ?"
   ]
  },
  {
   "cell_type": "markdown",
   "id": "28f902e4-c51e-4d68-b4cf-dcd2a32610df",
   "metadata": {},
   "source": [
    "\n",
    "<details><summary>Click here for the solution</summary>\n",
    "\n",
    "```\n",
    "    '2', not '11'\n",
    "\n",
    "```\n",
    "\n",
    "</details>"
   ]
  },
  {
   "cell_type": "markdown",
   "id": "7ec21763-71b4-44ea-aa70-7bb4a71e4dca",
   "metadata": {},
   "source": [
    "Strings Variables"
   ]
  },
  {
   "cell_type": "raw",
   "id": "1c7d5303-76f4-43c7-a325-e5099adfdb3a",
   "metadata": {},
   "source": [
    "Name = \"Matalon Gomies\"\n",
    "        \"M a t a l o n   G o m  i  e  s\"\n",
    " index:  0 1 2 3 4 5 6 7 8 9 10 11 12 13\n",
    "         \n",
    "                  \"M  a   t   a   l   o  n     G  o  m   i  e  s\"\n",
    " Negative index:  -14 -13 -12 -11 -10 -9 -8 -7 -6 -5 -4 -3 -2 -1\n",
    "         "
   ]
  },
  {
   "cell_type": "code",
   "execution_count": 32,
   "id": "2ed3bcd8-661d-47c3-a5ab-f4d3acb1c204",
   "metadata": {},
   "outputs": [
    {
     "name": "stdout",
     "output_type": "stream",
     "text": [
      "M\n"
     ]
    },
    {
     "data": {
      "text/plain": [
       "'Manoe'"
      ]
     },
     "execution_count": 32,
     "metadata": {},
     "output_type": "execute_result"
    }
   ],
   "source": [
    "Name = \"Matalon Gomies\"\n",
    "Name[0] # return 'M'\n",
    "print(Name[0]) # return 'M'\n",
    "Name[6] # return 'n'\n",
    "Name[-1] # return 's'\n",
    "#Slicing\n",
    "Name[0:4] # return 'Mata'; not including index 4 \n",
    "#Stride\n",
    "Name[::2] #take first element for every two elements; return 'MtlnGme'\n",
    "Name[0:5:2] # take every second elements up to index 5; return 'Mtl'\n",
    "Name[::3] # take first element for every three elements; return 'Manoe'"
   ]
  },
  {
   "cell_type": "code",
   "execution_count": 15,
   "id": "9e463253-714a-49a0-b882-965ff2d5422b",
   "metadata": {},
   "outputs": [
    {
     "data": {
      "text/plain": [
       "14"
      ]
     },
     "execution_count": 15,
     "metadata": {},
     "output_type": "execute_result"
    }
   ],
   "source": [
    "len(Name) # check the length of varaible; return 14"
   ]
  },
  {
   "cell_type": "markdown",
   "id": "0e784161-da8f-45b4-a80a-93ce1e5dae1c",
   "metadata": {},
   "source": [
    "Combine strings"
   ]
  },
  {
   "cell_type": "code",
   "execution_count": 18,
   "id": "4d014d6b-e99b-4699-b80c-4545cca30d32",
   "metadata": {},
   "outputs": [
    {
     "data": {
      "text/plain": [
       "'Matalon Gomies is the best'"
      ]
     },
     "execution_count": 18,
     "metadata": {},
     "output_type": "execute_result"
    }
   ],
   "source": [
    "Statement = Name + \" is the best\" # add space before 'is'\n",
    "Statement # return 'Matalon Gomies is the best'"
   ]
  },
  {
   "cell_type": "code",
   "execution_count": 20,
   "id": "8d75d111-e59d-4fc0-888e-80c6f05daf39",
   "metadata": {},
   "outputs": [
    {
     "data": {
      "text/plain": [
       "'Matalon Gomies Matalon Gomies Matalon Gomies '"
      ]
     },
     "execution_count": 20,
     "metadata": {},
     "output_type": "execute_result"
    }
   ],
   "source": [
    "3*Name # return 'Matalon GomiesMatalon GomiesMatalon Gomies'\n",
    "3*\"Matalon Gomies \" # return 'Matalon Gomies Matalon Gomies Matalon Gomies '; give space after 'Gomies'"
   ]
  },
  {
   "cell_type": "markdown",
   "id": "2abac05d-e777-4e68-a578-ed8150cbf20f",
   "metadata": {},
   "source": [
    "String is immutable\n",
    "     You can not do Name[0]='J'. But you can do \n",
    "     Name = Name + ' is the best', return 'Matalon Gomies is the best'"
   ]
  },
  {
   "cell_type": "markdown",
   "id": "55d32f03-7ca7-4654-8900-818c881fed5d",
   "metadata": {},
   "source": [
    "Escape Sequences"
   ]
  },
  {
   "cell_type": "markdown",
   "id": "f697f2b1-b2e5-497e-bb4d-0c4bd5379820",
   "metadata": {},
   "source": [
    "\\n : a new line; When the print function encounters a \\n it displays a new line\n",
    "\\t : add space"
   ]
  },
  {
   "cell_type": "code",
   "execution_count": 21,
   "id": "26c1fae2-7a93-459a-ad89-71b87edd299c",
   "metadata": {},
   "outputs": [
    {
     "name": "stdout",
     "output_type": "stream",
     "text": [
      "Matalon Gomies\n",
      " is the best\n"
     ]
    }
   ],
   "source": [
    "print(Name+'\\n is the best') "
   ]
  },
  {
   "cell_type": "raw",
   "id": "aaefb424-55e4-4121-a7cc-d48d3222110e",
   "metadata": {},
   "source": [
    "# return \n",
    "Matalon Gomies\n",
    "  is the best"
   ]
  },
  {
   "cell_type": "code",
   "execution_count": 22,
   "id": "6fb0d055-ff2c-4b65-9eb4-984cc945d145",
   "metadata": {},
   "outputs": [
    {
     "name": "stdout",
     "output_type": "stream",
     "text": [
      "Matalon Gomies\t is the best\n"
     ]
    }
   ],
   "source": [
    "print(Name+'\\t is the best')  # return Matalon Gomies\t is the best"
   ]
  },
  {
   "cell_type": "code",
   "execution_count": 34,
   "id": "d1cbb0f7-c173-4d5d-93f7-cb16b0d5b921",
   "metadata": {},
   "outputs": [
    {
     "name": "stdout",
     "output_type": "stream",
     "text": [
      "Matalon Gomies\\ is the best\n",
      "Matalon Gomies \\ is the best\n"
     ]
    }
   ],
   "source": [
    "print(Name+'\\\\ is the best') # return Matalon Gomies\\ is the best\n",
    "# r will tell python that string will be display as raw string\n",
    "print(r\"Matalon Gomies \\ is the best\" ) # return Matalon Gomies\\ is the best"
   ]
  },
  {
   "cell_type": "markdown",
   "id": "d4060590-bfba-46ab-a36a-5fc4eb8ccaab",
   "metadata": {},
   "source": [
    "String Operation Methods"
   ]
  },
  {
   "cell_type": "code",
   "execution_count": 25,
   "id": "3e56c4e6-5b5c-4b79-8d3e-fd93b7afc4a2",
   "metadata": {},
   "outputs": [
    {
     "data": {
      "text/plain": [
       "'MAT IS THE BEST!'"
      ]
     },
     "execution_count": 25,
     "metadata": {},
     "output_type": "execute_result"
    }
   ],
   "source": [
    "A = 'Mat is the best!'\n",
    "B = A.upper()\n",
    "B  # return 'MAT IS THE BEST!'"
   ]
  },
  {
   "cell_type": "code",
   "execution_count": 26,
   "id": "c771e368-e1da-4e48-8700-1c8f36478945",
   "metadata": {},
   "outputs": [
    {
     "data": {
      "text/plain": [
       "'Matalon is the best!'"
      ]
     },
     "execution_count": 26,
     "metadata": {},
     "output_type": "execute_result"
    }
   ],
   "source": [
    "B = A.replace('Mat','Matalon')\n",
    "B  # return 'Matalon is the best!'"
   ]
  },
  {
   "cell_type": "code",
   "execution_count": 27,
   "id": "8c291dd0-7f65-483a-9f8c-824e7308f93e",
   "metadata": {},
   "outputs": [
    {
     "data": {
      "text/plain": [
       "8"
      ]
     },
     "execution_count": 27,
     "metadata": {},
     "output_type": "execute_result"
    }
   ],
   "source": [
    "Name.find('Go') # return 8; the index of 'G'"
   ]
  },
  {
   "cell_type": "code",
   "execution_count": 29,
   "id": "e4d4c367-a660-498f-9717-3004183302f6",
   "metadata": {},
   "outputs": [
    {
     "data": {
      "text/plain": [
       "-1"
      ]
     },
     "execution_count": 29,
     "metadata": {},
     "output_type": "execute_result"
    }
   ],
   "source": [
    "\"hello Mike\".find(\"Mike\") # return 6\n",
    "\"hello Mike\".find(\"S\") # return -1"
   ]
  },
  {
   "cell_type": "markdown",
   "id": "351fe68a-6531-4075-9239-9e0c0b628e2b",
   "metadata": {},
   "source": [
    "Quiz on Strings"
   ]
  },
  {
   "cell_type": "code",
   "execution_count": 35,
   "id": "aaa660ab-b497-4e92-906c-9812805b3c95",
   "metadata": {},
   "outputs": [
    {
     "data": {
      "text/plain": [
       "'12'"
      ]
     },
     "execution_count": 35,
     "metadata": {},
     "output_type": "execute_result"
    }
   ],
   "source": [
    "a = \"1\"\n",
    "b = '2'\n",
    "c = a + b\n",
    "c # what is c?"
   ]
  },
  {
   "cell_type": "markdown",
   "id": "39c4ddcd-91fa-48d1-be37-5387a34f687d",
   "metadata": {},
   "source": [
    "\n",
    "<details><summary>Click here for the solution</summary>\n",
    "\n",
    "```\n",
    "    '12' instead of '3'\n",
    "\n",
    "```\n",
    "\n",
    "</details>"
   ]
  },
  {
   "cell_type": "markdown",
   "id": "5bdfbb4b-857a-4ca2-8917-1aa1af75071b",
   "metadata": {},
   "source": [
    "Thank you for reading this. Hope you enjoy your new journey to Python."
   ]
  }
 ],
 "metadata": {
  "kernelspec": {
   "display_name": "Python",
   "language": "python",
   "name": "conda-env-python-py"
  },
  "language_info": {
   "codemirror_mode": {
    "name": "ipython",
    "version": 3
   },
   "file_extension": ".py",
   "mimetype": "text/x-python",
   "name": "python",
   "nbconvert_exporter": "python",
   "pygments_lexer": "ipython3",
   "version": "3.6.13"
  }
 },
 "nbformat": 4,
 "nbformat_minor": 5
}
